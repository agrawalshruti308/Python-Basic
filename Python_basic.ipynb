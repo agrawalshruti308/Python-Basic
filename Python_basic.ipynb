{
  "nbformat": 4,
  "nbformat_minor": 0,
  "metadata": {
    "colab": {
      "provenance": []
    },
    "kernelspec": {
      "name": "python3",
      "display_name": "Python 3"
    },
    "language_info": {
      "name": "python"
    }
  },
  "cells": [
    {
      "cell_type": "markdown",
      "source": [
        "Q1. What is Python, and why is it popular ?\n",
        "  >- Python is a high-level, interpreted programming language known for its readability and simplicity.\n",
        "\n",
        "  >-Easy to learn and use (English).\n",
        "\n",
        "  >-Rich ecosystem of libraries.\n",
        "\n",
        "  >-Scalability and Versatility.\n",
        "\n",
        "  >-Free and open source.\n",
        "\n",
        "  Q2. What is an interpreter in Python ?\n",
        "\n",
        "  >- An interpreter in Python is a program that reads and executes Python code. Unlike a compiler, which translates the entire program into machine code at once, an interpreter processes the code line-by-line.\n",
        "  \n",
        "  Q3. What are pre-defined keywords in Python ?\n",
        "\n",
        "  >- The predefined keywords in Python are a set of special, reserved words that have specific meanings and purposes. You can't use them for anything else, like as a variable name, function name, or any other identifier.\n",
        "\n",
        "  Here is a list of the Python keywords.  \n",
        "\n",
        "False\n",
        "\n",
        "​None\n",
        "\n",
        "​True\n",
        "\n",
        " ​and\n",
        "\n",
        "​as\n",
        "\n",
        "​assert\n",
        "\n",
        "​async\n",
        "\n",
        "​await\n",
        "\n",
        "​break\n",
        "\n",
        "​class  \n",
        "\n",
        "​continue  \n",
        "\n",
        "​def  \n",
        "\n",
        "​del\n",
        "\n",
        "​elif\n",
        "\n",
        "​else\n",
        "\n",
        "\n",
        "​except  \n",
        "\n",
        "​finally  \n",
        "\n",
        "​for\n",
        "\n",
        "​from\n",
        "\n",
        "​global\n",
        "\n",
        "​if\n",
        "\n",
        "import  \n",
        "\n",
        "\n",
        "​in\n",
        "\n",
        "​is\n",
        "\n",
        "​lambda  \n",
        "\n",
        "​nonlocal  \n",
        "\n",
        "​not\n",
        "\n",
        "​or\n",
        "\n",
        "​pass\n",
        "\n",
        "​raise\n",
        "\n",
        "​return\n",
        "\n",
        "​try\n",
        "\n",
        "​while\n",
        "\n",
        "​with\n",
        "\n",
        "​yield\n",
        "\n",
        "Q4.Can keywords be used as variable names ?\n",
        ">- No, you cannot use keywords as variable names in Python.   \n",
        "Keywords are reserved words with specific, predefined meanings in the Python language. The Python interpreter relies on them to understand the structure and logic of your code.\n",
        "\n",
        "Q5.What is mutability in Python ?\n",
        ">- Mutability in Python refers to whether an object's state can be changed after it's created. If an object is mutable, you can modify its contents in place without creating a new object. If it's immutable, you cannot change its value after it's been created; any operation that seems to change it actually creates a new object.\n",
        "\n",
        "The main mutuble data types in python\n",
        "\n",
        "Lists: You can add, remove, or change elements within a list.  \n",
        "Dictionaries: You can add, remove, or update key-value pairs.  \n",
        "Sets: You can add or remove elements.\n",
        "\n",
        "Q6. Why are lists mutable, but tuples are immutable ?\n",
        ">- Mutability of Lists\n",
        "\n",
        "A list is a dynamic, ordered collection of items. Its mutability means you can change its contents after it's been created. This is because lists are stored in memory in a way that allows for easy modification. When you create a list, Python allocates a block of memory to store the references to the items in the list.\n",
        "\n",
        ">- Immutability of Tuples\n",
        "\n",
        "A tuple, on the other hand, is an immutable, ordered collection. Once a tuple is created, its contents cannot be changed. This immutability is guaranteed by how Python stores tuples in memory. When a tuple is created, Python allocates a fixed-size block of memory. This block cannot be resized or altered. This design choice makes tuples more lightweight and faster to process than lists.\n",
        "\n",
        "Q7.What is the difference between “==” and “is” operators in Python ?\n",
        ">- The \"==\" Operator (Equality)\n",
        "The \"==\" operator checks if two objects have the same value. It's used for value comparison. For example, if you have two different list objects that contain the same elements, \"==\" will return True\n",
        "\n",
        ">- The \"is\" Operator (Identity)\n",
        "The \"is\" operator checks if two variables point to the exact same object in memory. It's used for identity comparison. You can think of it as comparing the memory addresses of the two variables.\n",
        "\n",
        "Q8. What are logical operators in Python ?\n",
        ">- Logical operators in Python are symbols that perform logical operations on one or more boolean expressions. They are used to combine conditional statements and evaluate if a condition is true or false.\n",
        "\n",
        "Q9. What is type casting in Python ?\n",
        ">- Type casting, also known as type conversion, is the process of converting a variable from one data type to another. It's a fundamental operation in Python that allows you to change a variable's type to a more suitable one for a specific operation or function.\n",
        "\n",
        "Q10. What is the difference between implicit and explicit type casting ?\n",
        ">- Implicit and explicit type casting are two ways Python converts data types. The main difference is who initiates the conversion: Python does it automatically in implicit casting, while the programmer does it manually in explicit casting.  \n",
        ">-Implicit Type Casting\n",
        "\n",
        "Implicit type casting is an automatic type conversion performed by Python to prevent data loss. It typically occurs in mixed-type expressions where Python promotes a lower-level data type (like an integer) to a higher-level one (like a float) to ensure the operation is successful and accurate.\n",
        ">-Explicit Type Casting\n",
        "\n",
        "Explicit type casting, also known as type conversion, is done manually by the programmer using built-in functions like int(), float(), str(), etc. This conversion is necessary when Python cannot or will not convert the types automatically, and the programmer wants to change a variable's type for a specific purpose.\n",
        "\n",
        "Q11. What is the purpose of conditional statements in Python ?\n",
        ">- Conditional statements in Python allow you to execute a specific block of code only when a certain condition is met. They are the foundation of decision-making in programming, enabling your program to follow different paths based on the state of data.\n",
        "\n",
        "Q12. How does the elif statement work ?\n",
        ">- The elif (short for \"else if\") statement is used in Python to check multiple conditions in sequence after an initial if statement. It provides an elegant way to handle complex conditional logic without using nested if statements.\n",
        "\n",
        ">-How it Works\n",
        "\n",
        "The elif statement works by being part of an if-elif-else chain. The program checks the conditions in order.\n",
        "\n",
        "1.The if condition is checked first. If it evaluates to True, its code block is executed, and the entire if-elif-else chain is skipped.\n",
        "\n",
        "2.If the if condition is False, the program moves on to the first elif statement. Its condition is then evaluated.\n",
        "\n",
        "3.If the elif condition is True, its code block is executed, and the rest of the chain (any subsequent elif or else statements) is skipped.\n",
        "\n",
        "Q13. What is the difference between for and while loops ?\n",
        ">- The main difference between a for loop and a while loop in Python lies in how they are designed to terminate. A for loop is used for iterating over a sequence of items and will execute a predetermined number of times. A while loop, on the other hand, executes as long as a specified condition is true and will stop when the condition becomes false.\n",
        "\n",
        "Q14. Describe a scenario where a while loop is more suitable than a for loop ?\n",
        ">- A while loop is more suitable than a for loop when the number of iterations isn't known beforehand and the loop needs to continue until a certain condition is met. A classic scenario is reading data from a file until the end of the file is reached.\n",
        "\n",
        "\n",
        "\n",
        "Practical Questions\n",
        "\n",
        "\n"
      ],
      "metadata": {
        "id": "Q3Whe7ggWQhg"
      }
    },
    {
      "cell_type": "markdown",
      "source": [
        "Q1. Write a Python program to print \"Hello, World!\""
      ],
      "metadata": {
        "id": "V3zGy-yEvCI-"
      }
    },
    {
      "cell_type": "code",
      "execution_count": null,
      "metadata": {
        "id": "2rW0H0fLV1X1",
        "colab": {
          "base_uri": "https://localhost:8080/"
        },
        "outputId": "dee51cb6-5346-417d-97d6-3402de6f3a0e"
      },
      "outputs": [
        {
          "output_type": "stream",
          "name": "stdout",
          "text": [
            "Hello, World\n"
          ]
        }
      ],
      "source": [
        "print(\"Hello, World\")"
      ]
    },
    {
      "cell_type": "markdown",
      "source": [
        "Q2. Write a Python program that displays your name and age."
      ],
      "metadata": {
        "id": "aQcSClqewHGo"
      }
    },
    {
      "cell_type": "code",
      "source": [
        "name = (\"Shruti \")\n",
        "age = (\"22 \")\n",
        "print(name)\n",
        "print(age)"
      ],
      "metadata": {
        "colab": {
          "base_uri": "https://localhost:8080/"
        },
        "id": "-Bqkvql0vrTy",
        "outputId": "cf4aef48-6b2b-4f41-f57c-3ead20224a37"
      },
      "execution_count": null,
      "outputs": [
        {
          "output_type": "stream",
          "name": "stdout",
          "text": [
            "Shruti \n",
            "22 \n"
          ]
        }
      ]
    },
    {
      "cell_type": "markdown",
      "source": [
        "Q3. Write code to print all the pre-defined keywords in Python using the keyword library."
      ],
      "metadata": {
        "id": "BjlaEwzxx2qs"
      }
    },
    {
      "cell_type": "code",
      "source": [
        "import keyword\n",
        "print(keyword.kwlist)"
      ],
      "metadata": {
        "colab": {
          "base_uri": "https://localhost:8080/"
        },
        "id": "JlEL6athyS86",
        "outputId": "435b122a-457d-4857-86e1-6c43cc86269d"
      },
      "execution_count": null,
      "outputs": [
        {
          "output_type": "stream",
          "name": "stdout",
          "text": [
            "['False', 'None', 'True', 'and', 'as', 'assert', 'async', 'await', 'break', 'class', 'continue', 'def', 'del', 'elif', 'else', 'except', 'finally', 'for', 'from', 'global', 'if', 'import', 'in', 'is', 'lambda', 'nonlocal', 'not', 'or', 'pass', 'raise', 'return', 'try', 'while', 'with', 'yield']\n"
          ]
        }
      ]
    },
    {
      "cell_type": "markdown",
      "source": [
        "Q4. Write a program that checks if a given word is a Python keyword."
      ],
      "metadata": {
        "id": "UPbYUFT5zjAI"
      }
    },
    {
      "cell_type": "code",
      "source": [
        "import keyword\n",
        "word = input(\"Enter a word: \")\n",
        "if keyword.iskeyword(word):\n",
        "    print(f\"{word} is a Python keyword.\")\n",
        "else:\n",
        "    print(f\"{word} is not a Python keyword.\")\n"
      ],
      "metadata": {
        "colab": {
          "base_uri": "https://localhost:8080/"
        },
        "id": "owx-funRzLpb",
        "outputId": "28fd44b4-2113-4b6a-fd5f-8b968424009b"
      },
      "execution_count": null,
      "outputs": [
        {
          "output_type": "stream",
          "name": "stdout",
          "text": [
            "Enter a word: word\n",
            "word is not a Python keyword.\n"
          ]
        }
      ]
    },
    {
      "cell_type": "markdown",
      "source": [
        "Q5. Create a list and tuple in Python, and demonstrate how attempting to change an element works differently\n",
        "for each."
      ],
      "metadata": {
        "id": "3yL31hnN1ra0"
      }
    },
    {
      "cell_type": "code",
      "source": [
        "#creating a list\n",
        "my_list = [1,2,3,4,5]\n",
        "\n",
        "#creating a tuple\n",
        "my_tuple = (1,2,3,4,5)\n",
        "\n",
        "#attempting to change an element\n",
        "my_list[0] = 10\n",
        "my_list\n",
        "\n",
        "my_list[3] = 100\n",
        "my_list"
      ],
      "metadata": {
        "id": "zm5T1PbN0iZX",
        "colab": {
          "base_uri": "https://localhost:8080/"
        },
        "outputId": "385bd34e-4e12-418a-acd7-62898d35d5a5"
      },
      "execution_count": 8,
      "outputs": [
        {
          "output_type": "execute_result",
          "data": {
            "text/plain": [
              "[10, 2, 3, 100, 5]"
            ]
          },
          "metadata": {},
          "execution_count": 8
        }
      ]
    },
    {
      "cell_type": "code",
      "source": [
        "my_tuple[0] = 10\n",
        "my_tuple"
      ],
      "metadata": {
        "colab": {
          "base_uri": "https://localhost:8080/",
          "height": 158
        },
        "id": "zeNf8BwZZMiL",
        "outputId": "42fe356c-88cf-47b8-dea9-db184d0a1d9c"
      },
      "execution_count": 9,
      "outputs": [
        {
          "output_type": "error",
          "ename": "TypeError",
          "evalue": "'tuple' object does not support item assignment",
          "traceback": [
            "\u001b[0;31m---------------------------------------------------------------------------\u001b[0m",
            "\u001b[0;31mTypeError\u001b[0m                                 Traceback (most recent call last)",
            "\u001b[0;32m/tmp/ipython-input-1244199624.py\u001b[0m in \u001b[0;36m<cell line: 0>\u001b[0;34m()\u001b[0m\n\u001b[0;32m----> 1\u001b[0;31m \u001b[0mmy_tuple\u001b[0m\u001b[0;34m[\u001b[0m\u001b[0;36m0\u001b[0m\u001b[0;34m]\u001b[0m \u001b[0;34m=\u001b[0m \u001b[0;36m10\u001b[0m\u001b[0;34m\u001b[0m\u001b[0;34m\u001b[0m\u001b[0m\n\u001b[0m\u001b[1;32m      2\u001b[0m \u001b[0mmy_tuple\u001b[0m\u001b[0;34m\u001b[0m\u001b[0;34m\u001b[0m\u001b[0m\n",
            "\u001b[0;31mTypeError\u001b[0m: 'tuple' object does not support item assignment"
          ]
        }
      ]
    },
    {
      "cell_type": "markdown",
      "source": [
        "The error message TypeError: 'tuple' object does not support item assignment indicates that you are trying to change an element in a tuple. As explained in the markdown cell above, tuples are immutable, which means their elements cannot be changed after creation. This error demonstrates that unlike lists, you cannot modify individual items within a tuple.\n",
        "\n"
      ],
      "metadata": {
        "id": "8E0tNGcQdIPZ"
      }
    },
    {
      "cell_type": "markdown",
      "source": [
        "Q6.  Write a function to demonstrate the behavior of mutable and immutable arguments."
      ],
      "metadata": {
        "id": "K7sjzYdbdLXI"
      }
    },
    {
      "cell_type": "code",
      "source": [
        "def modify_values(num, text, items):\n",
        "    # Try modifying immutable arguments\n",
        "    num += 10\n",
        "    text += \" World\"\n",
        "\n",
        "    # Try modifying mutable argument\n",
        "    items.append(99)\n",
        "\n",
        "    print(\"Inside function:\")\n",
        "    print(\"num =\", num)\n",
        "    print(\"text =\", text)\n",
        "    print(\"items =\", items)\n",
        "\n",
        "\n",
        "# Immutable arguments\n",
        "number = 5\n",
        "string = \"Hello\"\n",
        "\n",
        "# Mutable argument\n",
        "my_list = [1, 2, 3]\n",
        "\n",
        "print(\"Before function call:\")\n",
        "print(\"number =\", number)\n",
        "print(\"string =\", string)\n",
        "print(\"my_list =\", my_list)\n",
        "\n",
        "modify_values(number, string, my_list)\n",
        "\n",
        "print(\"\\nAfter function call:\")\n",
        "print(\"number =\", number)   # unchanged (immutable)\n",
        "print(\"string =\", string)   # unchanged (immutable)\n",
        "print(\"my_list =\", my_list) # changed (mutable)"
      ],
      "metadata": {
        "colab": {
          "base_uri": "https://localhost:8080/"
        },
        "id": "9zr7N_Igb_Ta",
        "outputId": "bde1b356-41c5-4282-b2b6-80d83174b6a0"
      },
      "execution_count": 10,
      "outputs": [
        {
          "output_type": "stream",
          "name": "stdout",
          "text": [
            "Before function call:\n",
            "number = 5\n",
            "string = Hello\n",
            "my_list = [1, 2, 3]\n",
            "Inside function:\n",
            "num = 15\n",
            "text = Hello World\n",
            "items = [1, 2, 3, 99]\n",
            "\n",
            "After function call:\n",
            "number = 5\n",
            "string = Hello\n",
            "my_list = [1, 2, 3, 99]\n"
          ]
        }
      ]
    },
    {
      "cell_type": "markdown",
      "source": [
        "Q7.  Write a program that performs basic arithmetic operations on two user-input numbers."
      ],
      "metadata": {
        "id": "CNSBVppvflid"
      }
    },
    {
      "cell_type": "code",
      "source": [
        "a = 5\n",
        "b = 10\n",
        "print(a+b)\n",
        "print(a-b)\n",
        "print(a*b)\n",
        "print(a/b)"
      ],
      "metadata": {
        "colab": {
          "base_uri": "https://localhost:8080/"
        },
        "id": "nv3dYIdIftT0",
        "outputId": "de1079c9-526c-4bd4-ce13-8e53a08b9355"
      },
      "execution_count": 11,
      "outputs": [
        {
          "output_type": "stream",
          "name": "stdout",
          "text": [
            "15\n",
            "-5\n",
            "50\n",
            "0.5\n"
          ]
        }
      ]
    },
    {
      "cell_type": "markdown",
      "source": [
        "Q8.  Write a program to demonstrate the use of logical operators.\n"
      ],
      "metadata": {
        "id": "aj34Wfp1hFka"
      }
    },
    {
      "cell_type": "code",
      "source": [
        "#Program to demonstrate logical operators\n",
        "a = True\n",
        "b = False\n",
        "\n",
        "# Logical AND\n",
        "result_and = a and b\n",
        "print(result_and)\n",
        "\n",
        "# Logical OR\n",
        "result_or = a or b\n",
        "print(result_or)\n",
        "\n",
        "# Logical NOT\n",
        "result_not_a = not a\n",
        "print(result_not_a)\n",
        "result_not_b = not b\n",
        "print(result_not_b)"
      ],
      "metadata": {
        "colab": {
          "base_uri": "https://localhost:8080/"
        },
        "id": "eXixd4dAhDDi",
        "outputId": "e578882e-5018-4169-f81e-9d393049d9c8"
      },
      "execution_count": 13,
      "outputs": [
        {
          "output_type": "stream",
          "name": "stdout",
          "text": [
            "False\n",
            "True\n",
            "False\n",
            "True\n"
          ]
        }
      ]
    },
    {
      "cell_type": "markdown",
      "source": [
        "Q9.  Write a Python program to convert user input from string to integer, float, and boolean types."
      ],
      "metadata": {
        "id": "CVVkYSOiiJdK"
      }
    },
    {
      "cell_type": "code",
      "source": [
        "a = input(\"Enter the value: \")\n",
        "\n",
        "print(\"String:\", a)\n",
        "print(\"Integer:\", int(a))\n",
        "print(\"Float:\", float(a))\n",
        "print(\"Boolean:\",bool(a))"
      ],
      "metadata": {
        "colab": {
          "base_uri": "https://localhost:8080/"
        },
        "id": "8Bd1pXDSiVfp",
        "outputId": "5579b0f7-1481-4fc5-fe88-2f4df880479a"
      },
      "execution_count": 20,
      "outputs": [
        {
          "output_type": "stream",
          "name": "stdout",
          "text": [
            "Enter the value: 10\n",
            "String: 10\n",
            "Integer: 10\n",
            "Float: 10.0\n",
            "Boolean: True\n"
          ]
        }
      ]
    },
    {
      "cell_type": "markdown",
      "source": [
        "Q10.  Write code to demonstrate type casting with list elements."
      ],
      "metadata": {
        "id": "W3Utg_n7lAhx"
      }
    },
    {
      "cell_type": "code",
      "source": [
        "# List with string numbers\n",
        "str_list = [\"10\", \"20\", \"30\"]\n",
        "\n",
        "# Convert each element to integer\n",
        "int_list = [int(a) for a in str_list]\n",
        "\n",
        "# Convert each element to float\n",
        "float_list = [float(a) for a in str_list]\n",
        "\n",
        "print(\"Original list (strings):\", str_list)\n",
        "print(\"List after int conversion:\", int_list)\n",
        "print(\"List after float conversion:\",float_list)"
      ],
      "metadata": {
        "colab": {
          "base_uri": "https://localhost:8080/"
        },
        "id": "uc63GD6BjsWp",
        "outputId": "7d83d7d6-e7b1-4119-a321-cf5167877ca7"
      },
      "execution_count": 21,
      "outputs": [
        {
          "output_type": "stream",
          "name": "stdout",
          "text": [
            "Original list (strings): ['10', '20', '30']\n",
            "List after int conversion: [10, 20, 30]\n",
            "List after float conversion: [10.0, 20.0, 30.0]\n"
          ]
        }
      ]
    },
    {
      "cell_type": "markdown",
      "source": [
        "Q11.  Write a program that checks if a number is positive, negative, or zero."
      ],
      "metadata": {
        "id": "O6c3QvJclxmv"
      }
    },
    {
      "cell_type": "code",
      "source": [
        "num = int(input(\"Enter the number\"))\n",
        "\n",
        "if num > 0:\n",
        "    print(\"Positive\")\n",
        "elif num < 10:\n",
        "    print(\"Negative\")\n",
        "else:\n",
        "  print(\"Zero\")"
      ],
      "metadata": {
        "colab": {
          "base_uri": "https://localhost:8080/"
        },
        "id": "NB5WEZEQltEu",
        "outputId": "f1ec11e8-e6ef-4b0c-a399-9daedefba824"
      },
      "execution_count": 30,
      "outputs": [
        {
          "output_type": "stream",
          "name": "stdout",
          "text": [
            "Enter the number20\n",
            "Positive\n"
          ]
        }
      ]
    },
    {
      "cell_type": "markdown",
      "source": [
        "Q12.  Write a for loop to print numbers from 1 to 10."
      ],
      "metadata": {
        "id": "XE6AyM7Pn-0-"
      }
    },
    {
      "cell_type": "code",
      "source": [
        "for i in range(1,11):\n",
        "  print(i)\n"
      ],
      "metadata": {
        "colab": {
          "base_uri": "https://localhost:8080/"
        },
        "id": "E7Yn2GGKmOZm",
        "outputId": "6bbd860d-a0ef-4715-8654-cfba593d99d1"
      },
      "execution_count": 8,
      "outputs": [
        {
          "output_type": "stream",
          "name": "stdout",
          "text": [
            "1\n",
            "2\n",
            "3\n",
            "4\n",
            "5\n",
            "6\n",
            "7\n",
            "8\n",
            "9\n",
            "10\n"
          ]
        }
      ]
    },
    {
      "cell_type": "markdown",
      "source": [
        "Q13.  Write a Python program to find the sum of all even numbers between 1 and 50."
      ],
      "metadata": {
        "id": "a4GA7uHW99cf"
      }
    },
    {
      "cell_type": "code",
      "source": [
        "total = 0\n",
        "for i in range(1,51):\n",
        "  if i % 2 == 0:\n",
        "    total += i\n",
        "print(total)\n"
      ],
      "metadata": {
        "colab": {
          "base_uri": "https://localhost:8080/"
        },
        "id": "lZEdV9pz9305",
        "outputId": "0de53389-2c44-43c2-b919-fe981bde3b72"
      },
      "execution_count": 11,
      "outputs": [
        {
          "output_type": "stream",
          "name": "stdout",
          "text": [
            "650\n"
          ]
        }
      ]
    },
    {
      "cell_type": "markdown",
      "source": [
        "Q14. Write a program to reverse a string using a while loop.\n"
      ],
      "metadata": {
        "id": "Pt3EYI3SAhIm"
      }
    },
    {
      "cell_type": "code",
      "source": [
        "text = \"String\"\n",
        "reversed_text = \"\"\n",
        "length = len(text)\n",
        "index = length - 1\n",
        "\n",
        "while index >= 0:\n",
        "    reversed_text += text[index]\n",
        "    index -= 1\n",
        "\n",
        "print(reversed_text)\n"
      ],
      "metadata": {
        "colab": {
          "base_uri": "https://localhost:8080/"
        },
        "id": "PqDvA7do_MfQ",
        "outputId": "c2e175d9-b43f-42e7-8300-fa868935d392"
      },
      "execution_count": 12,
      "outputs": [
        {
          "output_type": "stream",
          "name": "stdout",
          "text": [
            "gnirtS\n"
          ]
        }
      ]
    },
    {
      "cell_type": "markdown",
      "source": [
        "Q15. Write a Python program to calculate the factorial of a number provided by the user using a while loop."
      ],
      "metadata": {
        "id": "eJrBCD2hDHJb"
      }
    },
    {
      "cell_type": "code",
      "source": [
        "a = 5\n",
        "fact = 1\n",
        "while a > 0:\n",
        "  fact *= a\n",
        "  a -= 1\n",
        "print(fact)"
      ],
      "metadata": {
        "colab": {
          "base_uri": "https://localhost:8080/"
        },
        "id": "zFCw7X8aDD5x",
        "outputId": "5d8f8931-885d-4054-bbc5-a603200562c1"
      },
      "execution_count": 13,
      "outputs": [
        {
          "output_type": "stream",
          "name": "stdout",
          "text": [
            "120\n"
          ]
        }
      ]
    }
  ]
}